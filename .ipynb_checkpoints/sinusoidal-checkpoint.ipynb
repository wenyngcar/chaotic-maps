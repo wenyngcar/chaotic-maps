{
 "cells": [
  {
   "cell_type": "code",
   "execution_count": null,
   "metadata": {},
   "outputs": [],
   "source": [
    "%matplotlib widget\n",
    "\n",
    "import matplotlib.pyplot as plt\n",
    "import math\n",
    "\n",
    "population_size = 500\n",
    "\n",
    "lb_x = -10.0\n",
    "ub_x = 50\n",
    "lb_y = -1.0\n",
    "ub_y = 10.0\n",
    "\n",
    "# 3rd function\n",
    "def f(x, y):\n",
    "    return (math.sin(3 * math.pi * x)**2) + (x - 2)**2 * (1 + math.sin(3 * math.pi * y)**2) + (y - 1)**2 * (1 + math.sin(2 * math.pi * y)**2)\n",
    "\n",
    "def sinusoidal(x):\n",
    "    return math.sin(math.pi * x)\n",
    "\n",
    "def generate_value(lb, ub, chaotic):\n",
    "    return lb + (ub - lb) * chaotic"
   ]
  },
  {
   "cell_type": "code",
   "execution_count": null,
   "metadata": {},
   "outputs": [],
   "source": [
    "sinusoidal_series_x = []\n",
    "sinusoidal_series_y = []\n",
    "\n",
    "x = 0.30\n",
    "y = 0.80\n",
    "\n",
    "sinusoidal_series_x.append(x)\n",
    "sinusoidal_series_y.append(y)\n",
    "\n",
    "for i in range(population_size):\n",
    "    sinusoidal_series_x.append(sinusoidal(sinusoidal_series_x[i]))\n",
    "    sinusoidal_series_y.append(sinusoidal(sinusoidal_series_y[i]))"
   ]
  },
  {
   "cell_type": "code",
   "execution_count": null,
   "metadata": {},
   "outputs": [],
   "source": [
    "xline = []\n",
    "yline = []\n",
    "zline = []\n",
    "\n",
    "for i in range(population_size):\n",
    "    xline.append(generate_value(lb_x, ub_x, sinusoidal_series_x[i]))\n",
    "    yline.append(generate_value(lb_y, ub_y, sinusoidal_series_y[i]))\n",
    "    zline.append(f(xline[i],yline[i]))\n",
    "\n",
    "axl = plt.axes(projection='3d')\n",
    "axl.scatter3D(xline, yline, zline, c = zline, cmap = 'hot', s = 7)\n",
    "axl.set_xlabel('x')\n",
    "axl.set_ylabel('y')\n",
    "axl.set_zlabel('f')\n",
    "    "
   ]
  }
 ],
 "metadata": {
  "kernelspec": {
   "display_name": "Python 3 (ipykernel)",
   "language": "python",
   "name": "python3"
  },
  "language_info": {
   "codemirror_mode": {
    "name": "ipython",
    "version": 3
   },
   "file_extension": ".py",
   "mimetype": "text/x-python",
   "name": "python",
   "nbconvert_exporter": "python",
   "pygments_lexer": "ipython3",
   "version": "3.12.5"
  }
 },
 "nbformat": 4,
 "nbformat_minor": 4
}
