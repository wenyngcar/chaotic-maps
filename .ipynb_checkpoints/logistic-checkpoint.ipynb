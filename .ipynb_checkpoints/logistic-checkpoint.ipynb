{
 "cells": [
  {
   "cell_type": "code",
   "execution_count": null,
   "metadata": {},
   "outputs": [],
   "source": [
    "%mathplotlib widget\n",
    "\n",
    "import matplotlib.pyplot as plt\n",
    "from mpl_toolkits.mplot3d import axes3d\n",
    "import random\n",
    "import numpy as np\n",
    "\n",
    "population_size = 100\n",
    "\n",
    "lb_x = -5.0\n",
    "ub_x = 5.0\n",
    "lb_y = -10.0\n",
    "ub_y = 10.0\n",
    "\n",
    "def f(x, y):\n",
    "    return ((x**4 - 16*x**2 + 5*x)/2) + ((y**4 - 16*y**2 + 5*y)/2)\n",
    "\n",
    "def logistic(x):\n",
    "    return 4*x*(1-x)\n",
    "\n",
    "def generate_value(lb, ub, chaotic):\n",
    "    return lb + (ub - lb) * chaotic"
   ]
  },
  {
   "cell_type": "code",
   "execution_count": null,
   "id": "65854c19",
   "metadata": {},
   "outputs": [],
   "source": [
    "logistic_series_x = []\n",
    "logistic_series_y = []\n",
    "\n",
    "for i in range(population_size):\n",
    "    next_in_series = logistic(logistic_series_x[i])\n",
    "    logistic_series_x.append(next_in_series)\n",
    "    next_in_series = logistic(logistic_series_y[i])\n",
    "    logistic_series_y.append(next_in_series)"
   ]
  },
  {
   "cell_type": "code",
   "execution_count": null,
   "id": "6e0e7e5f",
   "metadata": {},
   "outputs": [],
   "source": [
    "xline = []\n",
    "yline = []\n",
    "zline = []\n",
    "\n",
    "for i in range(population_size):\n",
    "    value = generate_value(lb_x, ub_x, logistic_series_x[i])\n",
    "    xline.append(value)\n",
    "    value = generate_value(lb_y, ub_y, logistic_series_y[i])\n",
    "    yline.append(value)\n",
    "    zline.append(f(xline[i],yline[i]))\n",
    "\n",
    "axl = plt.axes(projection='3d')\n",
    "axl.scatter3D(xline, yline, zline, c = zline, cmap = 'hot', s = 7)\n",
    "axl.set_xlabel('x')\n",
    "axl.set_ylabel('y')\n",
    "axl.set_zlabel('f')\n",
    "    "
   ]
  }
 ],
 "metadata": {
  "language_info": {
   "name": "python"
  }
 },
 "nbformat": 4,
 "nbformat_minor": 5
}
